{
 "cells": [
  {
   "cell_type": "code",
   "execution_count": 1,
   "id": "20dcd475-2b73-4d49-bb9b-d089b45e2231",
   "metadata": {},
   "outputs": [],
   "source": [
    "import os\n",
    "import datetime as dt\n",
    "import numpy as np\n",
    "import matplotlib.pyplot as plt\n",
    "\n",
    "import torch\n",
    "import torch.nn as nn\n",
    "import torch.nn.functional as F\n",
    "\n",
    "from tqdm import tqdm\n",
    "\n",
    "from scipy.stats import norm, multivariate_normal\n",
    "from scipy.interpolate import griddata"
   ]
  },
  {
   "cell_type": "code",
   "execution_count": 2,
   "id": "fb670bb7-58d7-418d-9376-fd10c8ae9ad8",
   "metadata": {},
   "outputs": [
    {
     "name": "stdout",
     "output_type": "stream",
     "text": [
      "cuda:0\n"
     ]
    }
   ],
   "source": [
    "device = torch.device(\"cuda:0\" if torch.cuda.is_available() else \"cpu\")\n",
    "print(device)"
   ]
  },
  {
   "cell_type": "code",
   "execution_count": 3,
   "id": "faf8374f-60f2-4e4d-b9a6-059445b5178b",
   "metadata": {},
   "outputs": [],
   "source": [
    "class LinearMap(nn.Module):\n",
    "    \n",
    "    def __init__(self, d):\n",
    "        super(LinearMap, self).__init__()\n",
    "        self.linear = nn.Linear(d, 1)\n",
    "        for param in self.linear.parameters():\n",
    "            param.requires_grad = False\n",
    "        nn.init.uniform_(self.linear.weight, a=-5, b=5)\n",
    "        nn.init.uniform_(self.linear.bias, a=-5, b=5)\n",
    "\n",
    "    def forward(self, x):\n",
    "        return self.linear(x)[:, 0]"
   ]
  },
  {
   "cell_type": "code",
   "execution_count": 4,
   "id": "afec1e34-8fbe-4d65-901f-fb005b6e703a",
   "metadata": {},
   "outputs": [],
   "source": [
    "def phi(x, σ):\n",
    "    return σ * σ * h(x)"
   ]
  },
  {
   "cell_type": "code",
   "execution_count": 5,
   "id": "69a96ce0-28f4-4b15-ae5e-55a7f2019139",
   "metadata": {},
   "outputs": [],
   "source": [
    "def sample_gaussian(μ, σ, N, d):\n",
    "    X = torch.normal(μ * torch.ones(N, d), σ * torch.ones(N, d))\n",
    "    return X"
   ]
  },
  {
   "cell_type": "code",
   "execution_count": 6,
   "id": "2fde8321-f4fe-4dac-9e18-08480358c96b",
   "metadata": {},
   "outputs": [],
   "source": [
    "def dm(x, h, ϕ_prev, ϵ=0.01, L=1000):\n",
    "    \n",
    "    x1_idx, x2_idx = torch.meshgrid(torch.arange(len(x)), torch.arange(len(x)), indexing='ij')\n",
    "    x1, x2 = x[x1_idx], x[x2_idx]\n",
    "    g = torch.exp(-torch.square(x1 - x2).sum(-1)/(4*ϵ))\n",
    "\n",
    "    g_rowsum = torch.sum(g, dim=1)\n",
    "    g_1, g_2 = torch.meshgrid(g_rowsum, g_rowsum, indexing='ij')\n",
    "    k = g/(torch.sqrt(g_1)*torch.sqrt(g_2))\n",
    "\n",
    "    d = torch.sum(k, axis=1)\n",
    "    T = k/d[:, None]\n",
    "    π = d/d.sum()\n",
    "\n",
    "    hx_hat = torch.sum(π*h(x))\n",
    "\n",
    "    ϕ = ϕ_prev\n",
    "\n",
    "    for t in tqdm(range(1, L+1)):\n",
    "        ϕ = (T * ϕ).sum(axis=1) + ϵ*(h(x) - hx_hat)\n",
    "    \n",
    "    return ϕ"
   ]
  },
  {
   "cell_type": "code",
   "execution_count": 7,
   "id": "1686b806-631c-4207-ab95-e14e2455e1c1",
   "metadata": {},
   "outputs": [],
   "source": [
    "def pointcloud_to_grid_data(X, ϕ, bounds=[[-5, 5], [-5, 5]], N=200):\n",
    "\n",
    "    # Create Mask\n",
    "    bounds = np.asarray(bounds)\n",
    "    for j in range(bounds.shape[0]):\n",
    "        if j == 0:\n",
    "            mask = (X[:, j]>bounds[j, 0]) & (X[:, j]<bounds[j, 1])\n",
    "        else:\n",
    "            mask = mask & (X[:, j]>bounds[j, 0]) & (X[:, j]<bounds[j, 1])\n",
    "\n",
    "    # Select points with mask\n",
    "    X_sel = X[mask]\n",
    "    ϕ_sel = ϕ[mask]\n",
    "\n",
    "    # Convert tensor to numpy array\n",
    "    if isinstance(X, torch.Tensor):\n",
    "        X_sel = X_sel.cpu().numpy()\n",
    "    if isinstance(X, torch.Tensor):\n",
    "        ϕ_sel = ϕ_sel.cpu().numpy()\n",
    "    \n",
    "    # Sample point cloud data (replace this with your actual data)\n",
    "    # Assuming point cloud data is in the form of a 2D numpy array with columns [x, y, value]\n",
    "    point_cloud_data = np.concatenate([X_sel, ϕ_sel[:, None]], axis=1)\n",
    "    \n",
    "    # Extract x, y, and values\n",
    "    x = point_cloud_data[:, 0]\n",
    "    y = point_cloud_data[:, 1]\n",
    "    values = point_cloud_data[:, 2]\n",
    "    \n",
    "    # Define the grid over which you want to interpolate\n",
    "    x_resample = np.linspace(min(x), max(x), N)\n",
    "    y_resample = np.linspace(min(y), max(y), N)\n",
    "    grid_x, grid_y = np.meshgrid(x_resample, \n",
    "                                 y_resample, \n",
    "                                 indexing='xy')\n",
    "    \n",
    "    # Perform interpolation\n",
    "    start_idx = int(0.05 * N)\n",
    "    end_idx = int(0.95 * N)\n",
    "    grid_values = griddata((x, y), values, (grid_x, grid_y), method='linear')\n",
    "    grid_values = grid_values[start_idx:end_idx, start_idx:end_idx]\n",
    "    x_resample = x_resample[start_idx:end_idx]\n",
    "    y_resample = y_resample[start_idx:end_idx]\n",
    "    \n",
    "    grid_x, grid_y = np.meshgrid(x_resample, \n",
    "                                 y_resample, \n",
    "                                 indexing='xy')\n",
    "    \n",
    "    ϕx = grid_values\n",
    "\n",
    "\n",
    "    fig, ax = plt.subplots(1, 3, figsize=(16, 4))\n",
    "\n",
    "    # Generate grid and h(x) values\n",
    "    grid = torch.from_numpy(np.concatenate([grid_x.flatten()[:, None], grid_y.flatten()[:, None]], axis=1)).float().to(device)\n",
    "    hx = h(grid).reshape(grid_x.shape).cpu().numpy()\n",
    "    im = ax[0].imshow(hx, extent=(min(x_resample), max(x_resample),\n",
    "                          min(y_resample), max(y_resample)), origin='lower')\n",
    "    ax[0].set_xlabel('$x_1$')\n",
    "    ax[0].set_ylabel('$x_2$')\n",
    "    ax[0].set_title('$h(x)$')\n",
    "    fig.colorbar(im, orientation='vertical')\n",
    "    \n",
    "\n",
    "    # Compute and plot px\n",
    "    grid = np.concatenate([grid_x.flatten()[:, None], grid_y.flatten()[:, None]], axis=1)\n",
    "    dist = multivariate_normal(np.ones(d)*μ, np.identity(d)*σ**2)\n",
    "    px = dist.pdf(grid).reshape(grid_x.shape)\n",
    "    \n",
    "    im = ax[1].imshow(px, extent=(min(x_resample), max(x_resample),\n",
    "                          min(y_resample), max(y_resample)), origin='lower')\n",
    "    ax[1].set_xlabel('$x_1$')\n",
    "    ax[1].set_ylabel('$x_2$')\n",
    "    ax[1].set_title('$p(x)$')\n",
    "    \n",
    "    fig.colorbar(im, orientation='vertical')\n",
    "    \n",
    "    # Plot Target values\n",
    "    im = ax[2].imshow(ϕx, extent=(min(x_resample), max(x_resample),\n",
    "                          min(y_resample), max(y_resample)), origin='lower')\n",
    "    ax[2].set_xlabel('$x_1$')\n",
    "    ax[2].set_ylabel('$x_2$')\n",
    "    ax[2].set_title('$\\phi(x)$')\n",
    "    fig.colorbar(im, orientation='vertical')\n",
    "\n",
    "    grid = np.concatenate([grid_x[..., None], grid_y[..., None]], axis=-1)\n",
    "    \n",
    "    return grid, hx, px, ϕx        "
   ]
  },
  {
   "cell_type": "code",
   "execution_count": 8,
   "id": "3ae74a90-3040-4c10-b747-f68a84d8a8e9",
   "metadata": {},
   "outputs": [],
   "source": [
    "def create_data_tensors(X, ϕ_dm, bounds, window=(64, 64), N=400):\n",
    "\n",
    "    grid, hx, px, ϕx = pointcloud_to_grid_data(X, ϕ_dm, bounds=bounds)\n",
    "    \n",
    "    grid_x = torch.from_numpy(grid).to(device)\n",
    "    grid_h = torch.from_numpy(hx).to(device)[...,None]\n",
    "    grid_p = torch.from_numpy(px).to(device)[...,None]\n",
    "    grid_ϕ = torch.from_numpy(ϕx).to(device)[...,None]\n",
    "    \n",
    "    M, N, D = grid_x.shape\n",
    "    w_i, w_j = window\n",
    "    \n",
    "    tensor_data_a = []\n",
    "    tensor_data_u = []\n",
    "    \n",
    "    grid_a = torch.concat([grid_x, grid_h, grid_p], dim=-1)\n",
    "    grid_a = torch.permute(grid_a, dims=(2, 0, 1))\n",
    "    grid_u = torch.permute(grid_ϕ, dims=(2, 0, 1))\n",
    "    \n",
    "    for i in range(0, M-w_i+1, w_i//2):\n",
    "        for j in range(0, N-w_j+1, w_j//2):\n",
    "            tensor_data_a.append(grid_a[:, i:i+w_i, j:j+w_j])\n",
    "            tensor_data_u.append(grid_u[:, i:i+w_i, j:j+w_j])\n",
    "    \n",
    "    ax_tensor = torch.stack(tensor_data_a)\n",
    "    ux_tensor = torch.stack(tensor_data_u)\n",
    "    \n",
    "    return ax_tensor, ux_tensor\n",
    "    "
   ]
  },
  {
   "cell_type": "code",
   "execution_count": 9,
   "id": "0c3e37d5-918a-4660-866c-cb63b174e131",
   "metadata": {},
   "outputs": [],
   "source": [
    "def plot_functions(X, μ, σ):\n",
    "\n",
    "    fig, ax = plt.subplots(1, 3, figsize=(16, 4))\n",
    "    \n",
    "    _ = ax[0].hist2d(X[:, 0].cpu(), X[:, 1].cpu(), bins=60)\n",
    "    ax[0].set_title(f'Samples from N({μ:.2f}, {σ:.2f})')\n",
    "    ax[0].set_xlabel('$x_1$')\n",
    "    ax[0].set_ylabel('$x_2$')\n",
    "    \n",
    "    \n",
    "    im = ax[1].scatter(X[:, 0].cpu(), X[:, 1].cpu(), c=h(X).cpu())\n",
    "    ax[1].set_title('$h(\\mathbf{x}$)')\n",
    "    ax[1].set_xlabel('$x_1$')\n",
    "    ax[1].set_ylabel('$x_2$')\n",
    "    plt.colorbar(im)\n",
    "    \n",
    "    im2 = ax[2].scatter(X[:, 0].cpu(), X[:, 1].cpu(), c=phi(X, σ).cpu(), marker='o', label='AnalyticSoln')\n",
    "    ax[2].set_xlabel('X1')\n",
    "    ax[2].set_ylabel('X2')\n",
    "    ax[2].set_title('$\\phi(\\mathbf{x})$')\n",
    "    plt.colorbar(im2)\n",
    "\n",
    "    return fig"
   ]
  },
  {
   "cell_type": "code",
   "execution_count": null,
   "id": "705c1384-ed14-417c-96a9-e7852b21b29b",
   "metadata": {},
   "outputs": [],
   "source": []
  },
  {
   "cell_type": "code",
   "execution_count": null,
   "id": "a1230680-24b4-4db9-8486-f9c586f98730",
   "metadata": {},
   "outputs": [],
   "source": []
  },
  {
   "cell_type": "code",
   "execution_count": null,
   "id": "d2e7613e-7e42-419d-9dc9-1dd2842dbabb",
   "metadata": {},
   "outputs": [],
   "source": []
  },
  {
   "cell_type": "code",
   "execution_count": null,
   "id": "6da2ca37-67fb-4f95-8eba-7174c965bfe6",
   "metadata": {},
   "outputs": [],
   "source": []
  },
  {
   "cell_type": "code",
   "execution_count": null,
   "id": "24460964-3e06-4899-a12e-fd88f3a444ce",
   "metadata": {},
   "outputs": [],
   "source": []
  },
  {
   "cell_type": "code",
   "execution_count": null,
   "id": "571b553b-bb4a-490b-9cff-5d73fed037e8",
   "metadata": {},
   "outputs": [],
   "source": []
  },
  {
   "cell_type": "code",
   "execution_count": null,
   "id": "00742977-da4d-4ad1-ac33-1fc7eb12c0e2",
   "metadata": {},
   "outputs": [],
   "source": []
  },
  {
   "cell_type": "code",
   "execution_count": null,
   "id": "93df5ae2-a8bf-487e-845d-7a421262cf2f",
   "metadata": {},
   "outputs": [],
   "source": []
  },
  {
   "cell_type": "code",
   "execution_count": null,
   "id": "661a3f3b-2c1e-4ff0-a587-e33af5593873",
   "metadata": {},
   "outputs": [],
   "source": []
  },
  {
   "cell_type": "code",
   "execution_count": null,
   "id": "18f33773-b250-4e1d-9a9a-77ecfe3f3e34",
   "metadata": {},
   "outputs": [],
   "source": []
  },
  {
   "cell_type": "code",
   "execution_count": 13,
   "id": "9b23ec17-92f4-4605-8abb-87e31aaedd60",
   "metadata": {},
   "outputs": [],
   "source": [
    "N = 20000\n",
    "L = 10000\n",
    "d = 2\n",
    "\n",
    "N_dist = 20\n",
    "μ_list = np.random.uniform(-20, 20, N_dist)\n",
    "σ_list = np.random.uniform(1, 8, N_dist)"
   ]
  },
  {
   "cell_type": "code",
   "execution_count": null,
   "id": "9ab18224-d83c-4330-968e-ec756338e360",
   "metadata": {},
   "outputs": [],
   "source": []
  },
  {
   "cell_type": "code",
   "execution_count": null,
   "id": "1c1475c2-735b-4ed2-bb1b-337a236d6930",
   "metadata": {},
   "outputs": [],
   "source": []
  },
  {
   "cell_type": "code",
   "execution_count": null,
   "id": "24dbcd63-63d4-4fbd-8561-bb338422e09f",
   "metadata": {},
   "outputs": [],
   "source": []
  },
  {
   "cell_type": "code",
   "execution_count": null,
   "id": "5d4e41eb-d508-41de-8dec-27646498b86b",
   "metadata": {},
   "outputs": [],
   "source": []
  },
  {
   "cell_type": "code",
   "execution_count": null,
   "id": "1b1308e5-9082-4b82-81e6-b9786060b30a",
   "metadata": {},
   "outputs": [],
   "source": []
  },
  {
   "cell_type": "code",
   "execution_count": null,
   "id": "c765c6b1-1bb6-433c-abb9-ab853185f295",
   "metadata": {},
   "outputs": [
    {
     "name": "stderr",
     "output_type": "stream",
     "text": [
      "100%|██████████| 10000/10000 [00:57<00:00, 174.52it/s]\n"
     ]
    },
    {
     "name": "stdout",
     "output_type": "stream",
     "text": [
      "mu: 11.87 sigma: 2.21 N: 20000 L:10000 Error: -60.8426\n"
     ]
    },
    {
     "name": "stderr",
     "output_type": "stream",
     "text": [
      "100%|██████████| 10000/10000 [00:57<00:00, 174.53it/s]\n"
     ]
    },
    {
     "name": "stdout",
     "output_type": "stream",
     "text": [
      "mu: 17.87 sigma: 4.86 N: 20000 L:10000 Error: -15.3883\n"
     ]
    },
    {
     "name": "stderr",
     "output_type": "stream",
     "text": [
      "100%|██████████| 10000/10000 [00:57<00:00, 174.54it/s]\n"
     ]
    },
    {
     "name": "stdout",
     "output_type": "stream",
     "text": [
      "mu: -0.04 sigma: 1.31 N: 20000 L:10000 Error: 0.9583\n"
     ]
    },
    {
     "name": "stderr",
     "output_type": "stream",
     "text": [
      "100%|██████████| 10000/10000 [00:57<00:00, 174.53it/s]\n"
     ]
    },
    {
     "name": "stdout",
     "output_type": "stream",
     "text": [
      "mu: 8.22 sigma: 4.10 N: 20000 L:10000 Error: -6.9721\n"
     ]
    },
    {
     "name": "stderr",
     "output_type": "stream",
     "text": [
      "100%|██████████| 10000/10000 [00:57<00:00, 174.53it/s]\n"
     ]
    },
    {
     "name": "stdout",
     "output_type": "stream",
     "text": [
      "mu: -3.77 sigma: 7.59 N: 20000 L:10000 Error: -6.5450\n"
     ]
    },
    {
     "name": "stderr",
     "output_type": "stream",
     "text": [
      "100%|██████████| 10000/10000 [00:57<00:00, 174.53it/s]\n"
     ]
    },
    {
     "name": "stdout",
     "output_type": "stream",
     "text": [
      "mu: -17.84 sigma: 6.39 N: 20000 L:10000 Error: -21.0085\n"
     ]
    },
    {
     "name": "stderr",
     "output_type": "stream",
     "text": [
      "100%|██████████| 10000/10000 [00:57<00:00, 174.51it/s]\n"
     ]
    },
    {
     "name": "stdout",
     "output_type": "stream",
     "text": [
      "mu: -11.08 sigma: 4.29 N: 20000 L:10000 Error: -22.1331\n"
     ]
    },
    {
     "name": "stderr",
     "output_type": "stream",
     "text": [
      "100%|██████████| 10000/10000 [00:57<00:00, 174.52it/s]\n"
     ]
    },
    {
     "name": "stdout",
     "output_type": "stream",
     "text": [
      "mu: 6.03 sigma: 1.44 N: 20000 L:10000 Error: -3.7751\n"
     ]
    },
    {
     "name": "stderr",
     "output_type": "stream",
     "text": [
      "/scratch/pbs.5620702.kman.restech.unsw.edu.au/ipykernel_1471832/3354405438.py:52: RuntimeWarning: More than 20 figures have been opened. Figures created through the pyplot interface (`matplotlib.pyplot.figure`) are retained until explicitly closed and may consume too much memory. (To control this warning, see the rcParam `figure.max_open_warning`). Consider using `matplotlib.pyplot.close()`.\n",
      "  fig, ax = plt.subplots(1, 3, figsize=(16, 4))\n",
      "100%|██████████| 10000/10000 [00:57<00:00, 174.52it/s]\n"
     ]
    },
    {
     "name": "stdout",
     "output_type": "stream",
     "text": [
      "mu: -2.89 sigma: 2.43 N: 20000 L:10000 Error: -28.5278\n"
     ]
    },
    {
     "name": "stderr",
     "output_type": "stream",
     "text": [
      "100%|██████████| 10000/10000 [00:57<00:00, 174.51it/s]\n"
     ]
    },
    {
     "name": "stdout",
     "output_type": "stream",
     "text": [
      "mu: -3.65 sigma: 7.91 N: 20000 L:10000 Error: -6.2212\n"
     ]
    },
    {
     "name": "stderr",
     "output_type": "stream",
     "text": [
      " 46%|████▌     | 4585/10000 [00:25<00:31, 172.21it/s]"
     ]
    }
   ],
   "source": [
    "# ax_tensor_list = []\n",
    "# ux_tensor_list = []\n",
    "\n",
    "\n",
    "for i in range(len(μ_list)):\n",
    "\n",
    "    μ = float(μ_list[i])\n",
    "    σ = float(σ_list[i])\n",
    "\n",
    "    \n",
    "    # Genereate linear function for h(x)\n",
    "    h = LinearMap(d)\n",
    "    \n",
    "    # Generate samples from density p(x)\n",
    "    X = sample_gaussian(μ, σ, N, d)\n",
    "    \n",
    "    # Move Tensors to GPU if available\n",
    "    X = X.to(device)\n",
    "    h = h.to(device)\n",
    "    \n",
    "    # Plot functions\n",
    "    # fig = plot_functions(X, μ_list[i], σ_list[i])\n",
    "\n",
    "    dist = multivariate_normal(np.ones(d)*μ, np.identity(d)*σ**2)\n",
    "    px = torch.from_numpy(dist.pdf(X.cpu().numpy())).to(device)\n",
    "\n",
    "    # Run DiffusionMap approach\n",
    "    ϕ_dm = dm(X, h, torch.randn(len(X)).to(device), L=L, ϵ=0.1)\n",
    "\n",
    "    # Compute L1-loss with the analytic solution\n",
    "    pred = ϕ_dm\n",
    "    tar = phi(X, σ)\n",
    "    error = 1 - torch.square(pred - tar).sum()/torch.square(tar - tar.mean()).sum()\n",
    "    print(f\"mu: {μ:.2f} sigma: {σ:.2f} N: {N} L:{L} Error: {error:.4f}\")\n",
    "    \n",
    "    # Move Array to CPU\n",
    "    X_cpu = X.cpu().numpy()\n",
    "    # Compute Analytic Solution\n",
    "    ϕ_analytic = phi(X, σ).cpu()\n",
    "\n",
    "    if error > -50:\n",
    "    \n",
    "        # Plot Results\n",
    "        fig, ax = plt.subplots(1, 2, figsize=(12, 4))\n",
    "        im1 = ax[0].scatter(X_cpu[:, 0], X_cpu[:, 1], \n",
    "                            c=np.clip(ϕ_dm.cpu().numpy(), a_min=ϕ_analytic.min(), a_max=ϕ_analytic.max()), \n",
    "                            marker='o', label='DiffusionMap')\n",
    "        ax[0].set_xlabel('X1')\n",
    "        ax[0].set_ylabel('X2')\n",
    "        ax[0].set_title(f'Diffusion Map {error:.2f}')\n",
    "        \n",
    "        im2 = ax[1].scatter(X_cpu[:, 0], X_cpu[:, 1], c=ϕ_analytic, marker='o', label='AnalyticSoln')\n",
    "        ax[1].set_xlabel('X1')\n",
    "        ax[1].set_ylabel('X2')\n",
    "        ax[1].set_title('Analytic Soln')\n",
    "        \n",
    "        fig.colorbar(im1, ax=ax[0])\n",
    "        fig.colorbar(im2, ax=ax[1])\n",
    "        \n",
    "        savedir = f\"data/{str(dt.date.today())}/{μ:.2f}_{σ:.2f}\"\n",
    "        if not os.path.exists(savedir):\n",
    "            os.makedirs(savedir)\n",
    "\n",
    "        fig.savefig(f\"{savedir}/plot.png\", bbox_inches='tight')\n",
    "    \n",
    "        \n",
    "        bounds = np.array([[μ-2*σ, μ+2*σ],\n",
    "                           [μ-2*σ, μ+2*σ]])\n",
    "        \n",
    "        ax_tensor, ux_dm_tensor = create_data_tensors(X, ϕ_dm, bounds)\n",
    "        ax_tensor, ux_analytic_tensor = create_data_tensors(X, ϕ_analytic.to(device), bounds)\n",
    "        \n",
    "        torch.save(ax_tensor, f\"{savedir}/ax.pt\")\n",
    "        torch.save(ux_dm_tensor, f\"{savedir}/ux_dm.pt\")\n",
    "        torch.save(ux_analytic_tensor, f\"{savedir}/ux_analytic.pt\")\n",
    "        torch.save(h.linear.weight.data, f\"{savedir}/h_weights.pt\")\n",
    "        torch.save(h.linear.bias.data, f\"{savedir}/h_bias.pt\")\n",
    "\n",
    "    del(X)\n",
    "    del(ϕ_dm)"
   ]
  },
  {
   "cell_type": "code",
   "execution_count": null,
   "id": "5228c4de-a16b-41e7-9893-58bc2e9414f6",
   "metadata": {},
   "outputs": [],
   "source": []
  },
  {
   "cell_type": "code",
   "execution_count": null,
   "id": "369d5640-cc7b-44ef-8e9e-7f7f1110dce7",
   "metadata": {},
   "outputs": [],
   "source": []
  },
  {
   "cell_type": "code",
   "execution_count": null,
   "id": "09412b94-6cf8-4afb-9205-8ee875a4cdaf",
   "metadata": {},
   "outputs": [],
   "source": []
  },
  {
   "cell_type": "code",
   "execution_count": null,
   "id": "543a818b-7505-4aca-af16-e6a46d84d2ee",
   "metadata": {},
   "outputs": [],
   "source": []
  },
  {
   "cell_type": "code",
   "execution_count": null,
   "id": "9883184b-eef2-46f1-90bb-4b7d5e206f16",
   "metadata": {},
   "outputs": [],
   "source": []
  },
  {
   "cell_type": "code",
   "execution_count": null,
   "id": "6fdde74e-fd99-4f84-b7ee-030ec30465ff",
   "metadata": {},
   "outputs": [],
   "source": []
  },
  {
   "cell_type": "code",
   "execution_count": null,
   "id": "c017e0fa-2aa7-4c32-a5c2-58d9c80efa1a",
   "metadata": {},
   "outputs": [],
   "source": []
  },
  {
   "cell_type": "code",
   "execution_count": null,
   "id": "86e6907a-c85a-4da6-90b2-8a4ccc12bde6",
   "metadata": {},
   "outputs": [],
   "source": []
  },
  {
   "cell_type": "code",
   "execution_count": null,
   "id": "311b36a6-da4e-4a2f-9be8-bac96f36e6f0",
   "metadata": {},
   "outputs": [],
   "source": []
  },
  {
   "cell_type": "code",
   "execution_count": null,
   "id": "bcd0026e-92db-4ab5-8e56-7384ffd17014",
   "metadata": {},
   "outputs": [],
   "source": []
  },
  {
   "cell_type": "code",
   "execution_count": null,
   "id": "c454e9ee-8d18-4f7f-99ec-a1e4c5cf3f05",
   "metadata": {},
   "outputs": [],
   "source": []
  },
  {
   "cell_type": "code",
   "execution_count": null,
   "id": "d0663c8d-0144-412f-81bc-8939bb69d3c9",
   "metadata": {},
   "outputs": [],
   "source": []
  },
  {
   "cell_type": "code",
   "execution_count": null,
   "id": "02fad00a-d6ee-42e4-9bb9-e29b1f48ceee",
   "metadata": {},
   "outputs": [],
   "source": []
  },
  {
   "cell_type": "code",
   "execution_count": null,
   "id": "e96b42f0-3b4d-4361-aafa-e270c197bc5f",
   "metadata": {},
   "outputs": [],
   "source": []
  }
 ],
 "metadata": {
  "kernelspec": {
   "display_name": "torch-env",
   "language": "python",
   "name": "torch-env"
  },
  "language_info": {
   "codemirror_mode": {
    "name": "ipython",
    "version": 3
   },
   "file_extension": ".py",
   "mimetype": "text/x-python",
   "name": "python",
   "nbconvert_exporter": "python",
   "pygments_lexer": "ipython3",
   "version": "3.10.8"
  }
 },
 "nbformat": 4,
 "nbformat_minor": 5
}
